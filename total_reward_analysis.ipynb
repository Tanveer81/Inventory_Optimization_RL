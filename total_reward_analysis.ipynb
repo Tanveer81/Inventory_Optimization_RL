{
 "cells": [
  {
   "cell_type": "code",
   "execution_count": 1,
   "metadata": {},
   "outputs": [],
   "source": [
    "import pandas as pd"
   ]
  },
  {
   "cell_type": "code",
   "execution_count": 4,
   "metadata": {},
   "outputs": [],
   "source": [
    "df = pd.read_csv('output_test/total_rewards.csv', header=None)"
   ]
  },
  {
   "cell_type": "code",
   "execution_count": 14,
   "metadata": {},
   "outputs": [
    {
     "data": {
      "text/html": [
       "<div>\n",
       "<style scoped>\n",
       "    .dataframe tbody tr th:only-of-type {\n",
       "        vertical-align: middle;\n",
       "    }\n",
       "\n",
       "    .dataframe tbody tr th {\n",
       "        vertical-align: top;\n",
       "    }\n",
       "\n",
       "    .dataframe thead th {\n",
       "        text-align: right;\n",
       "    }\n",
       "</style>\n",
       "<table border=\"1\" class=\"dataframe\">\n",
       "  <thead>\n",
       "    <tr style=\"text-align: right;\">\n",
       "      <th></th>\n",
       "      <th>0</th>\n",
       "      <th>1</th>\n",
       "      <th>2</th>\n",
       "    </tr>\n",
       "  </thead>\n",
       "  <tbody>\n",
       "    <tr>\n",
       "      <th>0</th>\n",
       "      <td>benchmarks_train</td>\n",
       "      <td>total_reward_Q115</td>\n",
       "      <td>-1132919355</td>\n",
       "    </tr>\n",
       "    <tr>\n",
       "      <th>1</th>\n",
       "      <td>benchmarks_train</td>\n",
       "      <td>total_stock_out_reward_Q115</td>\n",
       "      <td>-1067848365</td>\n",
       "    </tr>\n",
       "    <tr>\n",
       "      <th>2</th>\n",
       "      <td>benchmarks_train</td>\n",
       "      <td>total_inventory_reward_Q115</td>\n",
       "      <td>-65070990</td>\n",
       "    </tr>\n",
       "    <tr>\n",
       "      <th>3</th>\n",
       "      <td>benchmarks_train</td>\n",
       "      <td>total_reward_B120BP</td>\n",
       "      <td>-105567739</td>\n",
       "    </tr>\n",
       "    <tr>\n",
       "      <th>4</th>\n",
       "      <td>benchmarks_train</td>\n",
       "      <td>total_stock_out_reward_B120BP</td>\n",
       "      <td>-289255</td>\n",
       "    </tr>\n",
       "    <tr>\n",
       "      <th>...</th>\n",
       "      <td>...</td>\n",
       "      <td>...</td>\n",
       "      <td>...</td>\n",
       "    </tr>\n",
       "    <tr>\n",
       "      <th>121</th>\n",
       "      <td>ep_100000_hlyr512_256_128_64_lstm_128_dmnd_12_...</td>\n",
       "      <td>total_stock_out_reward_Q3015</td>\n",
       "      <td>-1395160</td>\n",
       "    </tr>\n",
       "    <tr>\n",
       "      <th>122</th>\n",
       "      <td>ep_100000_hlyr512_256_128_64_lstm_128_dmnd_12_...</td>\n",
       "      <td>total_inventory_reward_Q3015</td>\n",
       "      <td>-3886</td>\n",
       "    </tr>\n",
       "    <tr>\n",
       "      <th>123</th>\n",
       "      <td>ep_100000_hlyr512_256_128_64_lstm_128_dmnd_12_...</td>\n",
       "      <td>total_reward_Q3015</td>\n",
       "      <td>-240220280</td>\n",
       "    </tr>\n",
       "    <tr>\n",
       "      <th>124</th>\n",
       "      <td>ep_100000_hlyr512_256_128_64_lstm_128_dmnd_12_...</td>\n",
       "      <td>total_stock_out_reward_Q3015</td>\n",
       "      <td>-240191345</td>\n",
       "    </tr>\n",
       "    <tr>\n",
       "      <th>125</th>\n",
       "      <td>ep_100000_hlyr512_256_128_64_lstm_128_dmnd_12_...</td>\n",
       "      <td>total_inventory_reward_Q3015</td>\n",
       "      <td>-28935</td>\n",
       "    </tr>\n",
       "  </tbody>\n",
       "</table>\n",
       "<p>126 rows × 3 columns</p>\n",
       "</div>"
      ],
      "text/plain": [
       "                                                     0  \\\n",
       "0                                     benchmarks_train   \n",
       "1                                     benchmarks_train   \n",
       "2                                     benchmarks_train   \n",
       "3                                     benchmarks_train   \n",
       "4                                     benchmarks_train   \n",
       "..                                                 ...   \n",
       "121  ep_100000_hlyr512_256_128_64_lstm_128_dmnd_12_...   \n",
       "122  ep_100000_hlyr512_256_128_64_lstm_128_dmnd_12_...   \n",
       "123  ep_100000_hlyr512_256_128_64_lstm_128_dmnd_12_...   \n",
       "124  ep_100000_hlyr512_256_128_64_lstm_128_dmnd_12_...   \n",
       "125  ep_100000_hlyr512_256_128_64_lstm_128_dmnd_12_...   \n",
       "\n",
       "                                 1           2  \n",
       "0                total_reward_Q115 -1132919355  \n",
       "1      total_stock_out_reward_Q115 -1067848365  \n",
       "2      total_inventory_reward_Q115   -65070990  \n",
       "3              total_reward_B120BP  -105567739  \n",
       "4    total_stock_out_reward_B120BP     -289255  \n",
       "..                             ...         ...  \n",
       "121   total_stock_out_reward_Q3015    -1395160  \n",
       "122   total_inventory_reward_Q3015       -3886  \n",
       "123             total_reward_Q3015  -240220280  \n",
       "124   total_stock_out_reward_Q3015  -240191345  \n",
       "125   total_inventory_reward_Q3015      -28935  \n",
       "\n",
       "[126 rows x 3 columns]"
      ]
     },
     "execution_count": 14,
     "metadata": {},
     "output_type": "execute_result"
    }
   ],
   "source": [
    "df"
   ]
  },
  {
   "cell_type": "code",
   "execution_count": 25,
   "metadata": {
    "scrolled": false
   },
   "outputs": [
    {
     "name": "stdout",
     "output_type": "stream",
     "text": [
      "total_reward_Q115\n",
      "                                                    0           2\n",
      "21                                    benchmarks_test    -4486623\n",
      "42  dqn_episod_100000_trgt1000_env1_hlyr64_32_lstm...    -7601318\n",
      "48  ep_100000_hlyr512_256_128_64_lstm_128_dmnd_12_...   -12560003\n",
      "45  dqn_episod_100000_trgt1000_env1_hlyr64_32_lstm...  -518671856\n",
      "51  ep_100000_hlyr512_256_128_64_lstm_128_dmnd_12_... -1034793157\n",
      "0                                    benchmarks_train -1132919355\n",
      "total_stock_out_reward_Q115\n",
      "                                                    0           2\n",
      "43  dqn_episod_100000_trgt1000_env1_hlyr64_32_lstm...           0\n",
      "22                                    benchmarks_test     -707675\n",
      "49  ep_100000_hlyr512_256_128_64_lstm_128_dmnd_12_...   -10579815\n",
      "46  dqn_episod_100000_trgt1000_env1_hlyr64_32_lstm...  -109175500\n",
      "52  ep_100000_hlyr512_256_128_64_lstm_128_dmnd_12_... -1027767035\n",
      "1                                    benchmarks_train -1067848365\n",
      "total_inventory_reward_Q115\n",
      "                                                    0          2\n",
      "50  ep_100000_hlyr512_256_128_64_lstm_128_dmnd_12_...   -1980188\n",
      "23                                    benchmarks_test   -3778948\n",
      "53  ep_100000_hlyr512_256_128_64_lstm_128_dmnd_12_...   -7026122\n",
      "44  dqn_episod_100000_trgt1000_env1_hlyr64_32_lstm...   -7601318\n",
      "2                                    benchmarks_train  -65070990\n",
      "47  dqn_episod_100000_trgt1000_env1_hlyr64_32_lstm... -409496356\n"
     ]
    }
   ],
   "source": [
    "for reward in df[1].unique():\n",
    "    if 'Q115' in reward:\n",
    "        tmp = df[df[1]==reward]\n",
    "        print(reward)\n",
    "        print(tmp.sort_values(by=[2], ascending=False)[[0,2]])"
   ]
  }
 ],
 "metadata": {
  "kernelspec": {
   "display_name": "Python 3",
   "language": "python",
   "name": "python3"
  },
  "language_info": {
   "codemirror_mode": {
    "name": "ipython",
    "version": 3
   },
   "file_extension": ".py",
   "mimetype": "text/x-python",
   "name": "python",
   "nbconvert_exporter": "python",
   "pygments_lexer": "ipython3",
   "version": "3.6.12"
  }
 },
 "nbformat": 4,
 "nbformat_minor": 4
}
